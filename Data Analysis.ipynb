{
 "cells": [
  {
   "cell_type": "code",
   "execution_count": 1,
   "metadata": {},
   "outputs": [],
   "source": [
    "import pandas as pd \n",
    "import numpy as np"
   ]
  },
  {
   "cell_type": "code",
   "execution_count": 2,
   "metadata": {},
   "outputs": [
    {
     "data": {
      "text/html": [
       "<div>\n",
       "<style scoped>\n",
       "    .dataframe tbody tr th:only-of-type {\n",
       "        vertical-align: middle;\n",
       "    }\n",
       "\n",
       "    .dataframe tbody tr th {\n",
       "        vertical-align: top;\n",
       "    }\n",
       "\n",
       "    .dataframe thead th {\n",
       "        text-align: right;\n",
       "    }\n",
       "</style>\n",
       "<table border=\"1\" class=\"dataframe\">\n",
       "  <thead>\n",
       "    <tr style=\"text-align: right;\">\n",
       "      <th></th>\n",
       "      <th>Date</th>\n",
       "      <th>Symbol</th>\n",
       "      <th>Series</th>\n",
       "      <th>Prev Close</th>\n",
       "      <th>Open</th>\n",
       "      <th>High</th>\n",
       "      <th>Low</th>\n",
       "      <th>Last</th>\n",
       "      <th>Close</th>\n",
       "      <th>VWAP</th>\n",
       "      <th>Volume</th>\n",
       "      <th>Turnover</th>\n",
       "      <th>Trades</th>\n",
       "      <th>Deliverable Volume</th>\n",
       "      <th>%Deliverble</th>\n",
       "    </tr>\n",
       "  </thead>\n",
       "  <tbody>\n",
       "    <tr>\n",
       "      <td>0</td>\n",
       "      <td>2000-01-03</td>\n",
       "      <td>BAJAUTOFIN</td>\n",
       "      <td>EQ</td>\n",
       "      <td>46.95</td>\n",
       "      <td>49.45</td>\n",
       "      <td>50.75</td>\n",
       "      <td>46.5</td>\n",
       "      <td>50.75</td>\n",
       "      <td>50.75</td>\n",
       "      <td>50.05</td>\n",
       "      <td>7600</td>\n",
       "      <td>3.803800e+10</td>\n",
       "      <td>NaN</td>\n",
       "      <td>NaN</td>\n",
       "      <td>NaN</td>\n",
       "    </tr>\n",
       "    <tr>\n",
       "      <td>1</td>\n",
       "      <td>2000-01-04</td>\n",
       "      <td>BAJAUTOFIN</td>\n",
       "      <td>EQ</td>\n",
       "      <td>50.75</td>\n",
       "      <td>53.20</td>\n",
       "      <td>53.20</td>\n",
       "      <td>47.9</td>\n",
       "      <td>48.00</td>\n",
       "      <td>48.10</td>\n",
       "      <td>48.56</td>\n",
       "      <td>5000</td>\n",
       "      <td>2.428000e+10</td>\n",
       "      <td>NaN</td>\n",
       "      <td>NaN</td>\n",
       "      <td>NaN</td>\n",
       "    </tr>\n",
       "    <tr>\n",
       "      <td>2</td>\n",
       "      <td>2000-01-05</td>\n",
       "      <td>BAJAUTOFIN</td>\n",
       "      <td>EQ</td>\n",
       "      <td>48.10</td>\n",
       "      <td>46.55</td>\n",
       "      <td>47.40</td>\n",
       "      <td>44.6</td>\n",
       "      <td>44.60</td>\n",
       "      <td>44.60</td>\n",
       "      <td>45.47</td>\n",
       "      <td>3500</td>\n",
       "      <td>1.591450e+10</td>\n",
       "      <td>NaN</td>\n",
       "      <td>NaN</td>\n",
       "      <td>NaN</td>\n",
       "    </tr>\n",
       "    <tr>\n",
       "      <td>3</td>\n",
       "      <td>2000-01-06</td>\n",
       "      <td>BAJAUTOFIN</td>\n",
       "      <td>EQ</td>\n",
       "      <td>44.60</td>\n",
       "      <td>43.50</td>\n",
       "      <td>46.00</td>\n",
       "      <td>42.1</td>\n",
       "      <td>46.00</td>\n",
       "      <td>45.25</td>\n",
       "      <td>44.43</td>\n",
       "      <td>6200</td>\n",
       "      <td>2.754750e+10</td>\n",
       "      <td>NaN</td>\n",
       "      <td>NaN</td>\n",
       "      <td>NaN</td>\n",
       "    </tr>\n",
       "    <tr>\n",
       "      <td>4</td>\n",
       "      <td>2000-01-07</td>\n",
       "      <td>BAJAUTOFIN</td>\n",
       "      <td>EQ</td>\n",
       "      <td>45.25</td>\n",
       "      <td>48.00</td>\n",
       "      <td>48.00</td>\n",
       "      <td>42.0</td>\n",
       "      <td>42.90</td>\n",
       "      <td>42.90</td>\n",
       "      <td>44.44</td>\n",
       "      <td>3500</td>\n",
       "      <td>1.555550e+10</td>\n",
       "      <td>NaN</td>\n",
       "      <td>NaN</td>\n",
       "      <td>NaN</td>\n",
       "    </tr>\n",
       "  </tbody>\n",
       "</table>\n",
       "</div>"
      ],
      "text/plain": [
       "         Date      Symbol Series  Prev Close   Open   High   Low   Last  \\\n",
       "0  2000-01-03  BAJAUTOFIN     EQ       46.95  49.45  50.75  46.5  50.75   \n",
       "1  2000-01-04  BAJAUTOFIN     EQ       50.75  53.20  53.20  47.9  48.00   \n",
       "2  2000-01-05  BAJAUTOFIN     EQ       48.10  46.55  47.40  44.6  44.60   \n",
       "3  2000-01-06  BAJAUTOFIN     EQ       44.60  43.50  46.00  42.1  46.00   \n",
       "4  2000-01-07  BAJAUTOFIN     EQ       45.25  48.00  48.00  42.0  42.90   \n",
       "\n",
       "   Close   VWAP  Volume      Turnover  Trades  Deliverable Volume  %Deliverble  \n",
       "0  50.75  50.05    7600  3.803800e+10     NaN                 NaN          NaN  \n",
       "1  48.10  48.56    5000  2.428000e+10     NaN                 NaN          NaN  \n",
       "2  44.60  45.47    3500  1.591450e+10     NaN                 NaN          NaN  \n",
       "3  45.25  44.43    6200  2.754750e+10     NaN                 NaN          NaN  \n",
       "4  42.90  44.44    3500  1.555550e+10     NaN                 NaN          NaN  "
      ]
     },
     "execution_count": 2,
     "metadata": {},
     "output_type": "execute_result"
    }
   ],
   "source": [
    "data = pd.read_csv(r'C:\\Users\\BRAKAY\\Desktop\\data science/BAJFINANCE.csv')\n",
    "data.head()"
   ]
  },
  {
   "cell_type": "code",
   "execution_count": 4,
   "metadata": {},
   "outputs": [
    {
     "data": {
      "text/plain": [
       "array([  50.75,   48.1 ,   44.6 , ..., 3632.5 , 3670.8 , 3487.8 ])"
      ]
     },
     "execution_count": 4,
     "metadata": {},
     "output_type": "execute_result"
    }
   ],
   "source": [
    "data['Close'].unique()"
   ]
  },
  {
   "cell_type": "code",
   "execution_count": 9,
   "metadata": {},
   "outputs": [
    {
     "data": {
      "text/plain": [
       "30.00      24\n",
       "50.00      21\n",
       "49.00      20\n",
       "29.00      16\n",
       "31.00      14\n",
       "           ..\n",
       "799.90      1\n",
       "1596.80     1\n",
       "337.10      1\n",
       "1403.60     1\n",
       "4209.55     1\n",
       "Name: High, Length: 3618, dtype: int64"
      ]
     },
     "execution_count": 9,
     "metadata": {},
     "output_type": "execute_result"
    }
   ],
   "source": [
    "data['High'].value_counts()"
   ]
  },
  {
   "cell_type": "code",
   "execution_count": 6,
   "metadata": {},
   "outputs": [
    {
     "data": {
      "text/plain": [
       "Date                  5070\n",
       "Symbol                5070\n",
       "Series                5070\n",
       "Prev Close            5070\n",
       "Open                  5070\n",
       "High                  5070\n",
       "Low                   5070\n",
       "Last                  5070\n",
       "Close                 5070\n",
       "VWAP                  5070\n",
       "Volume                5070\n",
       "Turnover              5070\n",
       "Trades                2291\n",
       "Deliverable Volume    4624\n",
       "%Deliverble           4624\n",
       "dtype: int64"
      ]
     },
     "execution_count": 6,
     "metadata": {},
     "output_type": "execute_result"
    }
   ],
   "source": [
    "data.count()"
   ]
  },
  {
   "cell_type": "code",
   "execution_count": 5,
   "metadata": {},
   "outputs": [
    {
     "data": {
      "text/plain": [
       "Date                   object\n",
       "Symbol                 object\n",
       "Series                 object\n",
       "Prev Close            float64\n",
       "Open                  float64\n",
       "High                  float64\n",
       "Low                   float64\n",
       "Last                  float64\n",
       "Close                 float64\n",
       "VWAP                  float64\n",
       "Volume                  int64\n",
       "Turnover              float64\n",
       "Trades                float64\n",
       "Deliverable Volume    float64\n",
       "%Deliverble           float64\n",
       "dtype: object"
      ]
     },
     "execution_count": 5,
     "metadata": {},
     "output_type": "execute_result"
    }
   ],
   "source": [
    "data.dtypes"
   ]
  },
  {
   "cell_type": "code",
   "execution_count": 3,
   "metadata": {},
   "outputs": [
    {
     "data": {
      "text/plain": [
       "Date                  5070\n",
       "Symbol                   2\n",
       "Series                   1\n",
       "Prev Close            4305\n",
       "Open                  3480\n",
       "High                  3618\n",
       "Low                   3697\n",
       "Last                  3608\n",
       "Close                 4306\n",
       "VWAP                  4828\n",
       "Volume                4577\n",
       "Turnover              5067\n",
       "Trades                2164\n",
       "Deliverable Volume    4324\n",
       "%Deliverble           3446\n",
       "dtype: int64"
      ]
     },
     "execution_count": 3,
     "metadata": {},
     "output_type": "execute_result"
    }
   ],
   "source": [
    "data.nunique()"
   ]
  },
  {
   "cell_type": "code",
   "execution_count": 9,
   "metadata": {},
   "outputs": [],
   "source": [
    "data.set_index('Date', inplace = True)"
   ]
  },
  {
   "cell_type": "code",
   "execution_count": null,
   "metadata": {},
   "outputs": [],
   "source": []
  },
  {
   "cell_type": "code",
   "execution_count": 13,
   "metadata": {},
   "outputs": [
    {
     "data": {
      "text/plain": [
       "<matplotlib.axes._subplots.AxesSubplot at 0x25447549d08>"
      ]
     },
     "execution_count": 13,
     "metadata": {},
     "output_type": "execute_result"
    },
    {
     "data": {
      "image/png": "[encoded data removed]",
      "text/plain": [
       "<Figure size 432x288 with 1 Axes>"
      ]
     },
     "metadata": {
      "needs_background": "light"
     },
     "output_type": "display_data"
    }
   ],
   "source": [
    "data['VWAP'].plot()\n"
   ]
  },
  {
   "cell_type": "code",
   "execution_count": 14,
   "metadata": {},
   "outputs": [
    {
     "data": {
      "text/plain": [
       "Symbol                   0\n",
       "Series                   0\n",
       "Prev Close               0\n",
       "Open                     0\n",
       "High                     0\n",
       "Low                      0\n",
       "Last                     0\n",
       "Close                    0\n",
       "VWAP                     0\n",
       "Volume                   0\n",
       "Turnover                 0\n",
       "Trades                2779\n",
       "Deliverable Volume     446\n",
       "%Deliverble            446\n",
       "dtype: int64"
      ]
     },
     "execution_count": 14,
     "metadata": {},
     "output_type": "execute_result"
    }
   ],
   "source": [
    "data.isna().sum()"
   ]
  },
  {
   "cell_type": "code",
   "execution_count": 16,
   "metadata": {},
   "outputs": [],
   "source": [
    "data.dropna(inplace =True)"
   ]
  },
  {
   "cell_type": "code",
   "execution_count": 18,
   "metadata": {},
   "outputs": [
    {
     "data": {
      "text/plain": [
       "(2291, 14)"
      ]
     },
     "execution_count": 18,
     "metadata": {},
     "output_type": "execute_result"
    }
   ],
   "source": [
    "data.shape"
   ]
  },
  {
   "cell_type": "code",
   "execution_count": 20,
   "metadata": {},
   "outputs": [
    {
     "data": {
      "text/html": [
       "<div>\n",
       "<style scoped>\n",
       "    .dataframe tbody tr th:only-of-type {\n",
       "        vertical-align: middle;\n",
       "    }\n",
       "\n",
       "    .dataframe tbody tr th {\n",
       "        vertical-align: top;\n",
       "    }\n",
       "\n",
       "    .dataframe thead th {\n",
       "        text-align: right;\n",
       "    }\n",
       "</style>\n",
       "<table border=\"1\" class=\"dataframe\">\n",
       "  <thead>\n",
       "    <tr style=\"text-align: right;\">\n",
       "      <th></th>\n",
       "      <th>Symbol</th>\n",
       "      <th>Series</th>\n",
       "      <th>Prev Close</th>\n",
       "      <th>Open</th>\n",
       "      <th>High</th>\n",
       "      <th>Low</th>\n",
       "      <th>Last</th>\n",
       "      <th>Close</th>\n",
       "      <th>VWAP</th>\n",
       "      <th>Volume</th>\n",
       "      <th>Turnover</th>\n",
       "      <th>Trades</th>\n",
       "      <th>Deliverable Volume</th>\n",
       "      <th>%Deliverble</th>\n",
       "    </tr>\n",
       "    <tr>\n",
       "      <th>Date</th>\n",
       "      <th></th>\n",
       "      <th></th>\n",
       "      <th></th>\n",
       "      <th></th>\n",
       "      <th></th>\n",
       "      <th></th>\n",
       "      <th></th>\n",
       "      <th></th>\n",
       "      <th></th>\n",
       "      <th></th>\n",
       "      <th></th>\n",
       "      <th></th>\n",
       "      <th></th>\n",
       "      <th></th>\n",
       "    </tr>\n",
       "  </thead>\n",
       "  <tbody>\n",
       "    <tr>\n",
       "      <td>2011-06-01</td>\n",
       "      <td>BAJFINANCE</td>\n",
       "      <td>EQ</td>\n",
       "      <td>616.70</td>\n",
       "      <td>617.00</td>\n",
       "      <td>636.50</td>\n",
       "      <td>616.00</td>\n",
       "      <td>627.00</td>\n",
       "      <td>631.85</td>\n",
       "      <td>627.01</td>\n",
       "      <td>6894</td>\n",
       "      <td>4.322621e+11</td>\n",
       "      <td>1416.0</td>\n",
       "      <td>3427.0</td>\n",
       "      <td>0.4971</td>\n",
       "    </tr>\n",
       "    <tr>\n",
       "      <td>2011-06-02</td>\n",
       "      <td>BAJFINANCE</td>\n",
       "      <td>EQ</td>\n",
       "      <td>631.85</td>\n",
       "      <td>625.00</td>\n",
       "      <td>638.90</td>\n",
       "      <td>620.00</td>\n",
       "      <td>634.00</td>\n",
       "      <td>633.45</td>\n",
       "      <td>636.04</td>\n",
       "      <td>2769</td>\n",
       "      <td>1.761205e+11</td>\n",
       "      <td>432.0</td>\n",
       "      <td>1718.0</td>\n",
       "      <td>0.6204</td>\n",
       "    </tr>\n",
       "    <tr>\n",
       "      <td>2011-06-03</td>\n",
       "      <td>BAJFINANCE</td>\n",
       "      <td>EQ</td>\n",
       "      <td>633.45</td>\n",
       "      <td>625.15</td>\n",
       "      <td>637.80</td>\n",
       "      <td>620.00</td>\n",
       "      <td>623.00</td>\n",
       "      <td>625.00</td>\n",
       "      <td>625.09</td>\n",
       "      <td>51427</td>\n",
       "      <td>3.214631e+12</td>\n",
       "      <td>135.0</td>\n",
       "      <td>50912.0</td>\n",
       "      <td>0.9900</td>\n",
       "    </tr>\n",
       "    <tr>\n",
       "      <td>2011-06-06</td>\n",
       "      <td>BAJFINANCE</td>\n",
       "      <td>EQ</td>\n",
       "      <td>625.00</td>\n",
       "      <td>620.00</td>\n",
       "      <td>641.00</td>\n",
       "      <td>611.35</td>\n",
       "      <td>611.35</td>\n",
       "      <td>614.00</td>\n",
       "      <td>616.03</td>\n",
       "      <td>5446</td>\n",
       "      <td>3.354910e+11</td>\n",
       "      <td>268.0</td>\n",
       "      <td>4312.0</td>\n",
       "      <td>0.7918</td>\n",
       "    </tr>\n",
       "    <tr>\n",
       "      <td>2011-06-07</td>\n",
       "      <td>BAJFINANCE</td>\n",
       "      <td>EQ</td>\n",
       "      <td>614.00</td>\n",
       "      <td>604.00</td>\n",
       "      <td>623.95</td>\n",
       "      <td>604.00</td>\n",
       "      <td>619.90</td>\n",
       "      <td>619.15</td>\n",
       "      <td>617.73</td>\n",
       "      <td>5991</td>\n",
       "      <td>3.700840e+11</td>\n",
       "      <td>273.0</td>\n",
       "      <td>4073.0</td>\n",
       "      <td>0.6799</td>\n",
       "    </tr>\n",
       "  </tbody>\n",
       "</table>\n",
       "</div>"
      ],
      "text/plain": [
       "                Symbol Series  Prev Close    Open    High     Low    Last  \\\n",
       "Date                                                                        \n",
       "2011-06-01  BAJFINANCE     EQ      616.70  617.00  636.50  616.00  627.00   \n",
       "2011-06-02  BAJFINANCE     EQ      631.85  625.00  638.90  620.00  634.00   \n",
       "2011-06-03  BAJFINANCE     EQ      633.45  625.15  637.80  620.00  623.00   \n",
       "2011-06-06  BAJFINANCE     EQ      625.00  620.00  641.00  611.35  611.35   \n",
       "2011-06-07  BAJFINANCE     EQ      614.00  604.00  623.95  604.00  619.90   \n",
       "\n",
       "             Close    VWAP  Volume      Turnover  Trades  Deliverable Volume  \\\n",
       "Date                                                                           \n",
       "2011-06-01  631.85  627.01    6894  4.322621e+11  1416.0              3427.0   \n",
       "2011-06-02  633.45  636.04    2769  1.761205e+11   432.0              1718.0   \n",
       "2011-06-03  625.00  625.09   51427  3.214631e+12   135.0             50912.0   \n",
       "2011-06-06  614.00  616.03    5446  3.354910e+11   268.0              4312.0   \n",
       "2011-06-07  619.15  617.73    5991  3.700840e+11   273.0              4073.0   \n",
       "\n",
       "            %Deliverble  \n",
       "Date                     \n",
       "2011-06-01       0.4971  \n",
       "2011-06-02       0.6204  \n",
       "2011-06-03       0.9900  \n",
       "2011-06-06       0.7918  \n",
       "2011-06-07       0.6799  "
      ]
     },
     "execution_count": 20,
     "metadata": {},
     "output_type": "execute_result"
    }
   ],
   "source": [
    "data.head()"
   ]
  },
  {
   "cell_type": "code",
   "execution_count": null,
   "metadata": {},
   "outputs": [],
   "source": []
  }
 ],
 "metadata": {
  "kernelspec": {
   "display_name": "Python 3",
   "language": "python",
   "name": "python3"
  },
  "language_info": {
   "codemirror_mode": {
    "name": "ipython",
    "version": 3
   },
   "file_extension": ".py",
   "mimetype": "text/x-python",
   "name": "python",
   "nbconvert_exporter": "python",
   "pygments_lexer": "ipython3",
   "version": "3.7.4"
  }
 },
 "nbformat": 4,
 "nbformat_minor": 2
}
