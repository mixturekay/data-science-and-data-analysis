{
 "cells": [
  {
   "cell_type": "code",
   "execution_count": 1,
   "metadata": {},
   "outputs": [],
   "source": [
    "import pandas as pd\n",
    "import numpy as np\n",
    "import matplotlib.pyplot as plt\n",
    "import seaborn as sn"
   ]
  },
  {
   "cell_type": "code",
   "execution_count": 2,
   "metadata": {},
   "outputs": [],
   "source": [
    "from sklearn.datasets import load_boston"
   ]
  },
  {
   "cell_type": "code",
   "execution_count": 13,
   "metadata": {},
   "outputs": [],
   "source": [
    "boston = load_boston()"
   ]
  },
  {
   "cell_type": "code",
   "execution_count": 14,
   "metadata": {},
   "outputs": [
    {
     "data": {
      "text/plain": [
       "array([[6.3200e-03, 1.8000e+01, 2.3100e+00, ..., 1.5300e+01, 3.9690e+02,\n",
       "        4.9800e+00],\n",
       "       [2.7310e-02, 0.0000e+00, 7.0700e+00, ..., 1.7800e+01, 3.9690e+02,\n",
       "        9.1400e+00],\n",
       "       [2.7290e-02, 0.0000e+00, 7.0700e+00, ..., 1.7800e+01, 3.9283e+02,\n",
       "        4.0300e+00],\n",
       "       ...,\n",
       "       [6.0760e-02, 0.0000e+00, 1.1930e+01, ..., 2.1000e+01, 3.9690e+02,\n",
       "        5.6400e+00],\n",
       "       [1.0959e-01, 0.0000e+00, 1.1930e+01, ..., 2.1000e+01, 3.9345e+02,\n",
       "        6.4800e+00],\n",
       "       [4.7410e-02, 0.0000e+00, 1.1930e+01, ..., 2.1000e+01, 3.9690e+02,\n",
       "        7.8800e+00]])"
      ]
     },
     "execution_count": 14,
     "metadata": {},
     "output_type": "execute_result"
    }
   ],
   "source": [
    "bdata = boston.data\n",
    "bdata"
   ]
  },
  {
   "cell_type": "code",
   "execution_count": 10,
   "metadata": {},
   "outputs": [
    {
     "data": {
      "text/plain": [
       "array(['CRIM', 'ZN', 'INDUS', 'CHAS', 'NOX', 'RM', 'AGE', 'DIS', 'RAD',\n",
       "       'TAX', 'PTRATIO', 'B', 'LSTAT'], dtype='<U7')"
      ]
     },
     "execution_count": 10,
     "metadata": {},
     "output_type": "execute_result"
    }
   ],
   "source": [
    "data.feature_names"
   ]
  },
  {
   "cell_type": "code",
   "execution_count": 16,
   "metadata": {},
   "outputs": [],
   "source": [
    "df = pd.DataFrame(bdata,columns = boston.feature_names)"
   ]
  },
  {
   "cell_type": "code",
   "execution_count": 17,
   "metadata": {},
   "outputs": [
    {
     "data": {
      "text/html": [
       "<div>\n",
       "<style scoped>\n",
       "    .dataframe tbody tr th:only-of-type {\n",
       "        vertical-align: middle;\n",
       "    }\n",
       "\n",
       "    .dataframe tbody tr th {\n",
       "        vertical-align: top;\n",
       "    }\n",
       "\n",
       "    .dataframe thead th {\n",
       "        text-align: right;\n",
       "    }\n",
       "</style>\n",
       "<table border=\"1\" class=\"dataframe\">\n",
       "  <thead>\n",
       "    <tr style=\"text-align: right;\">\n",
       "      <th></th>\n",
       "      <th>CRIM</th>\n",
       "      <th>ZN</th>\n",
       "      <th>INDUS</th>\n",
       "      <th>CHAS</th>\n",
       "      <th>NOX</th>\n",
       "      <th>RM</th>\n",
       "      <th>AGE</th>\n",
       "      <th>DIS</th>\n",
       "      <th>RAD</th>\n",
       "      <th>TAX</th>\n",
       "      <th>PTRATIO</th>\n",
       "      <th>B</th>\n",
       "      <th>LSTAT</th>\n",
       "    </tr>\n",
       "  </thead>\n",
       "  <tbody>\n",
       "    <tr>\n",
       "      <td>0</td>\n",
       "      <td>0.00632</td>\n",
       "      <td>18.0</td>\n",
       "      <td>2.31</td>\n",
       "      <td>0.0</td>\n",
       "      <td>0.538</td>\n",
       "      <td>6.575</td>\n",
       "      <td>65.2</td>\n",
       "      <td>4.0900</td>\n",
       "      <td>1.0</td>\n",
       "      <td>296.0</td>\n",
       "      <td>15.3</td>\n",
       "      <td>396.90</td>\n",
       "      <td>4.98</td>\n",
       "    </tr>\n",
       "    <tr>\n",
       "      <td>1</td>\n",
       "      <td>0.02731</td>\n",
       "      <td>0.0</td>\n",
       "      <td>7.07</td>\n",
       "      <td>0.0</td>\n",
       "      <td>0.469</td>\n",
       "      <td>6.421</td>\n",
       "      <td>78.9</td>\n",
       "      <td>4.9671</td>\n",
       "      <td>2.0</td>\n",
       "      <td>242.0</td>\n",
       "      <td>17.8</td>\n",
       "      <td>396.90</td>\n",
       "      <td>9.14</td>\n",
       "    </tr>\n",
       "    <tr>\n",
       "      <td>2</td>\n",
       "      <td>0.02729</td>\n",
       "      <td>0.0</td>\n",
       "      <td>7.07</td>\n",
       "      <td>0.0</td>\n",
       "      <td>0.469</td>\n",
       "      <td>7.185</td>\n",
       "      <td>61.1</td>\n",
       "      <td>4.9671</td>\n",
       "      <td>2.0</td>\n",
       "      <td>242.0</td>\n",
       "      <td>17.8</td>\n",
       "      <td>392.83</td>\n",
       "      <td>4.03</td>\n",
       "    </tr>\n",
       "    <tr>\n",
       "      <td>3</td>\n",
       "      <td>0.03237</td>\n",
       "      <td>0.0</td>\n",
       "      <td>2.18</td>\n",
       "      <td>0.0</td>\n",
       "      <td>0.458</td>\n",
       "      <td>6.998</td>\n",
       "      <td>45.8</td>\n",
       "      <td>6.0622</td>\n",
       "      <td>3.0</td>\n",
       "      <td>222.0</td>\n",
       "      <td>18.7</td>\n",
       "      <td>394.63</td>\n",
       "      <td>2.94</td>\n",
       "    </tr>\n",
       "    <tr>\n",
       "      <td>4</td>\n",
       "      <td>0.06905</td>\n",
       "      <td>0.0</td>\n",
       "      <td>2.18</td>\n",
       "      <td>0.0</td>\n",
       "      <td>0.458</td>\n",
       "      <td>7.147</td>\n",
       "      <td>54.2</td>\n",
       "      <td>6.0622</td>\n",
       "      <td>3.0</td>\n",
       "      <td>222.0</td>\n",
       "      <td>18.7</td>\n",
       "      <td>396.90</td>\n",
       "      <td>5.33</td>\n",
       "    </tr>\n",
       "    <tr>\n",
       "      <td>...</td>\n",
       "      <td>...</td>\n",
       "      <td>...</td>\n",
       "      <td>...</td>\n",
       "      <td>...</td>\n",
       "      <td>...</td>\n",
       "      <td>...</td>\n",
       "      <td>...</td>\n",
       "      <td>...</td>\n",
       "      <td>...</td>\n",
       "      <td>...</td>\n",
       "      <td>...</td>\n",
       "      <td>...</td>\n",
       "      <td>...</td>\n",
       "    </tr>\n",
       "    <tr>\n",
       "      <td>501</td>\n",
       "      <td>0.06263</td>\n",
       "      <td>0.0</td>\n",
       "      <td>11.93</td>\n",
       "      <td>0.0</td>\n",
       "      <td>0.573</td>\n",
       "      <td>6.593</td>\n",
       "      <td>69.1</td>\n",
       "      <td>2.4786</td>\n",
       "      <td>1.0</td>\n",
       "      <td>273.0</td>\n",
       "      <td>21.0</td>\n",
       "      <td>391.99</td>\n",
       "      <td>9.67</td>\n",
       "    </tr>\n",
       "    <tr>\n",
       "      <td>502</td>\n",
       "      <td>0.04527</td>\n",
       "      <td>0.0</td>\n",
       "      <td>11.93</td>\n",
       "      <td>0.0</td>\n",
       "      <td>0.573</td>\n",
       "      <td>6.120</td>\n",
       "      <td>76.7</td>\n",
       "      <td>2.2875</td>\n",
       "      <td>1.0</td>\n",
       "      <td>273.0</td>\n",
       "      <td>21.0</td>\n",
       "      <td>396.90</td>\n",
       "      <td>9.08</td>\n",
       "    </tr>\n",
       "    <tr>\n",
       "      <td>503</td>\n",
       "      <td>0.06076</td>\n",
       "      <td>0.0</td>\n",
       "      <td>11.93</td>\n",
       "      <td>0.0</td>\n",
       "      <td>0.573</td>\n",
       "      <td>6.976</td>\n",
       "      <td>91.0</td>\n",
       "      <td>2.1675</td>\n",
       "      <td>1.0</td>\n",
       "      <td>273.0</td>\n",
       "      <td>21.0</td>\n",
       "      <td>396.90</td>\n",
       "      <td>5.64</td>\n",
       "    </tr>\n",
       "    <tr>\n",
       "      <td>504</td>\n",
       "      <td>0.10959</td>\n",
       "      <td>0.0</td>\n",
       "      <td>11.93</td>\n",
       "      <td>0.0</td>\n",
       "      <td>0.573</td>\n",
       "      <td>6.794</td>\n",
       "      <td>89.3</td>\n",
       "      <td>2.3889</td>\n",
       "      <td>1.0</td>\n",
       "      <td>273.0</td>\n",
       "      <td>21.0</td>\n",
       "      <td>393.45</td>\n",
       "      <td>6.48</td>\n",
       "    </tr>\n",
       "    <tr>\n",
       "      <td>505</td>\n",
       "      <td>0.04741</td>\n",
       "      <td>0.0</td>\n",
       "      <td>11.93</td>\n",
       "      <td>0.0</td>\n",
       "      <td>0.573</td>\n",
       "      <td>6.030</td>\n",
       "      <td>80.8</td>\n",
       "      <td>2.5050</td>\n",
       "      <td>1.0</td>\n",
       "      <td>273.0</td>\n",
       "      <td>21.0</td>\n",
       "      <td>396.90</td>\n",
       "      <td>7.88</td>\n",
       "    </tr>\n",
       "  </tbody>\n",
       "</table>\n",
       "<p>506 rows × 13 columns</p>\n",
       "</div>"
      ],
      "text/plain": [
       "        CRIM    ZN  INDUS  CHAS    NOX     RM   AGE     DIS  RAD    TAX  \\\n",
       "0    0.00632  18.0   2.31   0.0  0.538  6.575  65.2  4.0900  1.0  296.0   \n",
       "1    0.02731   0.0   7.07   0.0  0.469  6.421  78.9  4.9671  2.0  242.0   \n",
       "2    0.02729   0.0   7.07   0.0  0.469  7.185  61.1  4.9671  2.0  242.0   \n",
       "3    0.03237   0.0   2.18   0.0  0.458  6.998  45.8  6.0622  3.0  222.0   \n",
       "4    0.06905   0.0   2.18   0.0  0.458  7.147  54.2  6.0622  3.0  222.0   \n",
       "..       ...   ...    ...   ...    ...    ...   ...     ...  ...    ...   \n",
       "501  0.06263   0.0  11.93   0.0  0.573  6.593  69.1  2.4786  1.0  273.0   \n",
       "502  0.04527   0.0  11.93   0.0  0.573  6.120  76.7  2.2875  1.0  273.0   \n",
       "503  0.06076   0.0  11.93   0.0  0.573  6.976  91.0  2.1675  1.0  273.0   \n",
       "504  0.10959   0.0  11.93   0.0  0.573  6.794  89.3  2.3889  1.0  273.0   \n",
       "505  0.04741   0.0  11.93   0.0  0.573  6.030  80.8  2.5050  1.0  273.0   \n",
       "\n",
       "     PTRATIO       B  LSTAT  \n",
       "0       15.3  396.90   4.98  \n",
       "1       17.8  396.90   9.14  \n",
       "2       17.8  392.83   4.03  \n",
       "3       18.7  394.63   2.94  \n",
       "4       18.7  396.90   5.33  \n",
       "..       ...     ...    ...  \n",
       "501     21.0  391.99   9.67  \n",
       "502     21.0  396.90   9.08  \n",
       "503     21.0  396.90   5.64  \n",
       "504     21.0  393.45   6.48  \n",
       "505     21.0  396.90   7.88  \n",
       "\n",
       "[506 rows x 13 columns]"
      ]
     },
     "execution_count": 17,
     "metadata": {},
     "output_type": "execute_result"
    }
   ],
   "source": [
    "df"
   ]
  },
  {
   "cell_type": "code",
   "execution_count": 18,
   "metadata": {},
   "outputs": [],
   "source": [
    "x = boston.data\n",
    "y = boston.target"
   ]
  },
  {
   "cell_type": "code",
   "execution_count": 19,
   "metadata": {},
   "outputs": [],
   "source": [
    "from sklearn.model_selection import train_test_split"
   ]
  },
  {
   "cell_type": "code",
   "execution_count": 20,
   "metadata": {},
   "outputs": [],
   "source": [
    "x_train,x_test,y_train,y_test = train_test_split(x,y,test_size = 0.25,random_state = 80)"
   ]
  },
  {
   "cell_type": "code",
   "execution_count": 23,
   "metadata": {},
   "outputs": [],
   "source": [
    "from sklearn.preprocessing import MinMaxScaler"
   ]
  },
  {
   "cell_type": "code",
   "execution_count": 24,
   "metadata": {},
   "outputs": [],
   "source": [
    "data_set = MinMaxScaler(feature_range=(0,1))"
   ]
  },
  {
   "cell_type": "code",
   "execution_count": 25,
   "metadata": {},
   "outputs": [],
   "source": [
    "x_train = data_set.fit_transform(x_train)\n",
    "x_test  = data_set.fit_transform(x_test)\n"
   ]
  },
  {
   "cell_type": "markdown",
   "metadata": {},
   "source": [
    "# Reshaping of the y -train dataset"
   ]
  },
  {
   "cell_type": "code",
   "execution_count": 26,
   "metadata": {},
   "outputs": [],
   "source": [
    "y_train = y_train.reshape(-1,1)"
   ]
  },
  {
   "cell_type": "code",
   "execution_count": 28,
   "metadata": {},
   "outputs": [],
   "source": [
    "y_train  = data_set.fit_transform(y_train)"
   ]
  },
  {
   "cell_type": "code",
   "execution_count": 30,
   "metadata": {},
   "outputs": [
    {
     "data": {
      "text/plain": [
       "array([[1.77739352e-01, 0.00000000e+00, 6.46627566e-01, ...,\n",
       "        8.08510638e-01, 1.00000000e+00, 3.59547461e-01],\n",
       "       [3.31896325e-02, 0.00000000e+00, 7.00879765e-01, ...,\n",
       "        2.23404255e-01, 2.22678905e-01, 3.97626932e-01],\n",
       "       [6.44654306e-04, 0.00000000e+00, 4.93401760e-01, ...,\n",
       "        3.61702128e-01, 9.89787685e-01, 1.56181015e-01],\n",
       "       ...,\n",
       "       [1.63773202e-01, 0.00000000e+00, 6.46627566e-01, ...,\n",
       "        8.08510638e-01, 7.34353724e-01, 3.41335541e-01],\n",
       "       [1.62482806e-03, 4.73684211e-01, 1.09237537e-01, ...,\n",
       "        2.76595745e-01, 9.64546876e-01, 7.80905077e-02],\n",
       "       [8.20370206e-04, 0.00000000e+00, 1.31598240e-01, ...,\n",
       "        4.25531915e-01, 9.85021938e-01, 9.93377483e-02]])"
      ]
     },
     "execution_count": 30,
     "metadata": {},
     "output_type": "execute_result"
    }
   ],
   "source": []
  },
  {
   "cell_type": "markdown",
   "metadata": {},
   "source": [
    "# Develop Regression model for prediction"
   ]
  },
  {
   "cell_type": "code",
   "execution_count": 31,
   "metadata": {},
   "outputs": [],
   "source": [
    "from sklearn.linear_model import LinearRegression"
   ]
  },
  {
   "cell_type": "code",
   "execution_count": 32,
   "metadata": {},
   "outputs": [],
   "source": [
    "lr = LinearRegression()"
   ]
  },
  {
   "cell_type": "code",
   "execution_count": 33,
   "metadata": {},
   "outputs": [
    {
     "data": {
      "text/plain": [
       "LinearRegression(copy_X=True, fit_intercept=True, n_jobs=None, normalize=False)"
      ]
     },
     "execution_count": 33,
     "metadata": {},
     "output_type": "execute_result"
    }
   ],
   "source": [
    "lr.fit(x_train,y_train)"
   ]
  },
  {
   "cell_type": "code",
   "execution_count": 34,
   "metadata": {},
   "outputs": [],
   "source": [
    "predicts = lr.predict(x_test)"
   ]
  },
  {
   "cell_type": "code",
   "execution_count": 35,
   "metadata": {},
   "outputs": [
    {
     "data": {
      "text/plain": [
       "array([[ 0.2394436 ],\n",
       "       [ 0.70470649],\n",
       "       [ 0.36512546],\n",
       "       [ 0.31749449],\n",
       "       [ 0.36753545],\n",
       "       [ 0.5807883 ],\n",
       "       [ 0.81200934],\n",
       "       [ 0.32618238],\n",
       "       [ 0.41846503],\n",
       "       [ 0.21995664],\n",
       "       [ 0.15474255],\n",
       "       [ 0.27909837],\n",
       "       [ 0.34301247],\n",
       "       [ 0.30894113],\n",
       "       [ 0.26969096],\n",
       "       [ 0.40885054],\n",
       "       [ 0.48816105],\n",
       "       [ 0.22442743],\n",
       "       [ 0.34019459],\n",
       "       [ 0.40195611],\n",
       "       [-0.0009787 ],\n",
       "       [ 0.28849508],\n",
       "       [ 0.2986122 ],\n",
       "       [ 0.2095336 ],\n",
       "       [ 0.19032204],\n",
       "       [ 0.6054565 ],\n",
       "       [ 0.33097348],\n",
       "       [ 0.14042423],\n",
       "       [ 0.32049985],\n",
       "       [ 0.36894008],\n",
       "       [ 0.20697948],\n",
       "       [ 0.44121065],\n",
       "       [ 0.40812765],\n",
       "       [ 0.28305834],\n",
       "       [ 0.12561794],\n",
       "       [ 0.16323498],\n",
       "       [ 0.63819351],\n",
       "       [ 0.27991249],\n",
       "       [ 0.21263603],\n",
       "       [ 0.07860545],\n",
       "       [ 0.50372466],\n",
       "       [ 0.63767115],\n",
       "       [ 0.42807874],\n",
       "       [ 0.44908908],\n",
       "       [ 0.3455756 ],\n",
       "       [ 0.44341292],\n",
       "       [ 0.18754588],\n",
       "       [ 0.48211652],\n",
       "       [ 0.39692292],\n",
       "       [ 0.17696759],\n",
       "       [ 0.23193612],\n",
       "       [ 0.22530739],\n",
       "       [ 0.24358539],\n",
       "       [ 0.33336951],\n",
       "       [ 0.18864951],\n",
       "       [ 0.08393287],\n",
       "       [ 0.56930669],\n",
       "       [ 0.19260188],\n",
       "       [ 0.27188117],\n",
       "       [ 0.24168812],\n",
       "       [ 0.35511627],\n",
       "       [ 0.34193205],\n",
       "       [ 0.47577271],\n",
       "       [ 0.3969866 ],\n",
       "       [ 0.46724642],\n",
       "       [ 0.6376466 ],\n",
       "       [ 0.26392813],\n",
       "       [ 0.59476936],\n",
       "       [ 0.10716305],\n",
       "       [ 0.12104289],\n",
       "       [ 0.30260832],\n",
       "       [ 0.17109253],\n",
       "       [ 0.13303451],\n",
       "       [ 0.29725094],\n",
       "       [ 0.49682681],\n",
       "       [ 0.3701041 ],\n",
       "       [ 0.247852  ],\n",
       "       [ 0.29412127],\n",
       "       [ 0.24022119],\n",
       "       [ 0.52919699],\n",
       "       [ 0.28403023],\n",
       "       [ 0.14142991],\n",
       "       [ 0.2175936 ],\n",
       "       [ 0.00285334],\n",
       "       [ 0.18921872],\n",
       "       [ 0.22071813],\n",
       "       [ 0.2005346 ],\n",
       "       [ 0.1493637 ],\n",
       "       [ 0.27316233],\n",
       "       [ 0.7424548 ],\n",
       "       [ 0.53442488],\n",
       "       [ 0.340409  ],\n",
       "       [ 0.59196272],\n",
       "       [ 0.11135832],\n",
       "       [ 0.29727742],\n",
       "       [ 0.26234161],\n",
       "       [ 0.06497031],\n",
       "       [ 0.49431255],\n",
       "       [ 0.6436506 ],\n",
       "       [-0.08083146],\n",
       "       [ 0.27501332],\n",
       "       [ 0.35794393],\n",
       "       [ 0.17615675],\n",
       "       [ 0.72380429],\n",
       "       [ 0.54688447],\n",
       "       [ 0.71810161],\n",
       "       [ 0.26518426],\n",
       "       [ 0.26366535],\n",
       "       [ 0.34803853],\n",
       "       [-0.33568433],\n",
       "       [ 0.21807709],\n",
       "       [ 0.39091686],\n",
       "       [ 0.17361126],\n",
       "       [ 0.275746  ],\n",
       "       [-0.20332063],\n",
       "       [ 0.33676919],\n",
       "       [ 0.4100199 ],\n",
       "       [ 0.13465661],\n",
       "       [ 0.21627631],\n",
       "       [ 0.21889387],\n",
       "       [ 0.20170886],\n",
       "       [ 0.50691664],\n",
       "       [ 0.30768549],\n",
       "       [ 0.33751401],\n",
       "       [ 0.27593738],\n",
       "       [-0.01917582],\n",
       "       [ 0.10592276]])"
      ]
     },
     "execution_count": 35,
     "metadata": {},
     "output_type": "execute_result"
    }
   ],
   "source": [
    "predicts"
   ]
  },
  {
   "cell_type": "markdown",
   "metadata": {},
   "source": [
    "# RANDOM FOREST"
   ]
  },
  {
   "cell_type": "code",
   "execution_count": 36,
   "metadata": {},
   "outputs": [],
   "source": [
    "from sklearn.ensemble import RandomForestRegressor"
   ]
  },
  {
   "cell_type": "code",
   "execution_count": 37,
   "metadata": {},
   "outputs": [],
   "source": [
    "rf = RandomForestRegressor(random_state = 33)"
   ]
  },
  {
   "cell_type": "code",
   "execution_count": 38,
   "metadata": {},
   "outputs": [
    {
     "name": "stderr",
     "output_type": "stream",
     "text": [
      "C:\\Users\\BRAKAY\\Anaconda3\\lib\\site-packages\\sklearn\\ensemble\\forest.py:245: FutureWarning: The default value of n_estimators will change from 10 in version 0.20 to 100 in 0.22.\n",
      "  \"10 in version 0.20 to 100 in 0.22.\", FutureWarning)\n",
      "C:\\Users\\BRAKAY\\Anaconda3\\lib\\site-packages\\ipykernel_launcher.py:1: DataConversionWarning: A column-vector y was passed when a 1d array was expected. Please change the shape of y to (n_samples,), for example using ravel().\n",
      "  \"\"\"Entry point for launching an IPython kernel.\n"
     ]
    },
    {
     "data": {
      "text/plain": [
       "RandomForestRegressor(bootstrap=True, criterion='mse', max_depth=None,\n",
       "                      max_features='auto', max_leaf_nodes=None,\n",
       "                      min_impurity_decrease=0.0, min_impurity_split=None,\n",
       "                      min_samples_leaf=1, min_samples_split=2,\n",
       "                      min_weight_fraction_leaf=0.0, n_estimators=10,\n",
       "                      n_jobs=None, oob_score=False, random_state=33, verbose=0,\n",
       "                      warm_start=False)"
      ]
     },
     "execution_count": 38,
     "metadata": {},
     "output_type": "execute_result"
    }
   ],
   "source": [
    "rf.fit(x_train,y_train)"
   ]
  },
  {
   "cell_type": "code",
   "execution_count": 39,
   "metadata": {},
   "outputs": [],
   "source": [
    "predi = rf.predict(x_test)"
   ]
  },
  {
   "cell_type": "code",
   "execution_count": 40,
   "metadata": {},
   "outputs": [
    {
     "data": {
      "text/plain": [
       "array([0.32022222, 0.86177778, 0.34511111, 0.31977778, 0.322     ,\n",
       "       0.66422222, 0.91111111, 0.35777778, 0.31422222, 0.36666667,\n",
       "       0.206     , 0.31933333, 0.30666667, 0.29377778, 0.31488889,\n",
       "       0.40022222, 0.56155556, 0.24755556, 0.31422222, 0.32866667,\n",
       "       0.31577778, 0.26155556, 0.26266667, 0.29933333, 0.20444444,\n",
       "       0.54044444, 0.29933333, 0.278     , 0.33888889, 0.32844444,\n",
       "       0.27577778, 0.37577778, 0.39488889, 0.28577778, 0.31      ,\n",
       "       0.28888889, 0.60088889, 0.30911111, 0.31777778, 0.17311111,\n",
       "       0.63622222, 0.86155556, 0.39577778, 0.62222222, 0.38266667,\n",
       "       0.44066667, 0.29555556, 0.45555556, 0.35733333, 0.24688889,\n",
       "       0.19755556, 0.29822222, 0.22111111, 0.35711111, 0.25911111,\n",
       "       0.19355556, 0.60977778, 0.302     , 0.336     , 0.26977778,\n",
       "       0.33022222, 0.38422222, 0.36866667, 0.39044444, 0.53911111,\n",
       "       0.55755556, 0.30311111, 0.55866667, 0.18222222, 0.18844444,\n",
       "       0.33355556, 0.25288889, 0.18911111, 0.32311111, 0.40933333,\n",
       "       0.29777778, 0.33311111, 0.28555556, 0.37355556, 0.49266667,\n",
       "       0.24266667, 0.18488889, 0.21266667, 0.10022222, 0.17911111,\n",
       "       0.28733333, 0.26711111, 0.21488889, 0.24866667, 0.92666667,\n",
       "       0.43888889, 0.32666667, 0.75644444, 0.23555556, 0.30222222,\n",
       "       0.21911111, 0.25911111, 0.46933333, 0.87355556, 0.23111111,\n",
       "       0.27488889, 0.40244444, 0.27755556, 0.93088889, 0.63133333,\n",
       "       0.92711111, 0.28266667, 0.31511111, 0.35977778, 0.08177778,\n",
       "       0.33711111, 0.39511111, 0.19377778, 0.31666667, 0.18844444,\n",
       "       0.20333333, 0.53044444, 0.24866667, 0.28933333, 0.3       ,\n",
       "       0.34288889, 0.42311111, 0.288     , 0.33733333, 0.31555556,\n",
       "       0.268     , 0.19844444])"
      ]
     },
     "execution_count": 40,
     "metadata": {},
     "output_type": "execute_result"
    }
   ],
   "source": [
    "predi"
   ]
  },
  {
   "cell_type": "code",
   "execution_count": 41,
   "metadata": {},
   "outputs": [],
   "source": [
    "predi = predi.reshape(-1,1)"
   ]
  },
  {
   "cell_type": "code",
   "execution_count": 42,
   "metadata": {},
   "outputs": [
    {
     "data": {
      "text/plain": [
       "array([[0.32022222],\n",
       "       [0.86177778],\n",
       "       [0.34511111],\n",
       "       [0.31977778],\n",
       "       [0.322     ],\n",
       "       [0.66422222],\n",
       "       [0.91111111],\n",
       "       [0.35777778],\n",
       "       [0.31422222],\n",
       "       [0.36666667],\n",
       "       [0.206     ],\n",
       "       [0.31933333],\n",
       "       [0.30666667],\n",
       "       [0.29377778],\n",
       "       [0.31488889],\n",
       "       [0.40022222],\n",
       "       [0.56155556],\n",
       "       [0.24755556],\n",
       "       [0.31422222],\n",
       "       [0.32866667],\n",
       "       [0.31577778],\n",
       "       [0.26155556],\n",
       "       [0.26266667],\n",
       "       [0.29933333],\n",
       "       [0.20444444],\n",
       "       [0.54044444],\n",
       "       [0.29933333],\n",
       "       [0.278     ],\n",
       "       [0.33888889],\n",
       "       [0.32844444],\n",
       "       [0.27577778],\n",
       "       [0.37577778],\n",
       "       [0.39488889],\n",
       "       [0.28577778],\n",
       "       [0.31      ],\n",
       "       [0.28888889],\n",
       "       [0.60088889],\n",
       "       [0.30911111],\n",
       "       [0.31777778],\n",
       "       [0.17311111],\n",
       "       [0.63622222],\n",
       "       [0.86155556],\n",
       "       [0.39577778],\n",
       "       [0.62222222],\n",
       "       [0.38266667],\n",
       "       [0.44066667],\n",
       "       [0.29555556],\n",
       "       [0.45555556],\n",
       "       [0.35733333],\n",
       "       [0.24688889],\n",
       "       [0.19755556],\n",
       "       [0.29822222],\n",
       "       [0.22111111],\n",
       "       [0.35711111],\n",
       "       [0.25911111],\n",
       "       [0.19355556],\n",
       "       [0.60977778],\n",
       "       [0.302     ],\n",
       "       [0.336     ],\n",
       "       [0.26977778],\n",
       "       [0.33022222],\n",
       "       [0.38422222],\n",
       "       [0.36866667],\n",
       "       [0.39044444],\n",
       "       [0.53911111],\n",
       "       [0.55755556],\n",
       "       [0.30311111],\n",
       "       [0.55866667],\n",
       "       [0.18222222],\n",
       "       [0.18844444],\n",
       "       [0.33355556],\n",
       "       [0.25288889],\n",
       "       [0.18911111],\n",
       "       [0.32311111],\n",
       "       [0.40933333],\n",
       "       [0.29777778],\n",
       "       [0.33311111],\n",
       "       [0.28555556],\n",
       "       [0.37355556],\n",
       "       [0.49266667],\n",
       "       [0.24266667],\n",
       "       [0.18488889],\n",
       "       [0.21266667],\n",
       "       [0.10022222],\n",
       "       [0.17911111],\n",
       "       [0.28733333],\n",
       "       [0.26711111],\n",
       "       [0.21488889],\n",
       "       [0.24866667],\n",
       "       [0.92666667],\n",
       "       [0.43888889],\n",
       "       [0.32666667],\n",
       "       [0.75644444],\n",
       "       [0.23555556],\n",
       "       [0.30222222],\n",
       "       [0.21911111],\n",
       "       [0.25911111],\n",
       "       [0.46933333],\n",
       "       [0.87355556],\n",
       "       [0.23111111],\n",
       "       [0.27488889],\n",
       "       [0.40244444],\n",
       "       [0.27755556],\n",
       "       [0.93088889],\n",
       "       [0.63133333],\n",
       "       [0.92711111],\n",
       "       [0.28266667],\n",
       "       [0.31511111],\n",
       "       [0.35977778],\n",
       "       [0.08177778],\n",
       "       [0.33711111],\n",
       "       [0.39511111],\n",
       "       [0.19377778],\n",
       "       [0.31666667],\n",
       "       [0.18844444],\n",
       "       [0.20333333],\n",
       "       [0.53044444],\n",
       "       [0.24866667],\n",
       "       [0.28933333],\n",
       "       [0.3       ],\n",
       "       [0.34288889],\n",
       "       [0.42311111],\n",
       "       [0.288     ],\n",
       "       [0.33733333],\n",
       "       [0.31555556],\n",
       "       [0.268     ],\n",
       "       [0.19844444]])"
      ]
     },
     "execution_count": 42,
     "metadata": {},
     "output_type": "execute_result"
    }
   ],
   "source": [
    "predi"
   ]
  },
  {
   "cell_type": "code",
   "execution_count": null,
   "metadata": {},
   "outputs": [],
   "source": []
  }
 ],
 "metadata": {
  "kernelspec": {
   "display_name": "Python 3",
   "language": "python",
   "name": "python3"
  },
  "language_info": {
   "codemirror_mode": {
    "name": "ipython",
    "version": 3
   },
   "file_extension": ".py",
   "mimetype": "text/x-python",
   "name": "python",
   "nbconvert_exporter": "python",
   "pygments_lexer": "ipython3",
   "version": "3.7.4"
  }
 },
 "nbformat": 4,
 "nbformat_minor": 2
}
